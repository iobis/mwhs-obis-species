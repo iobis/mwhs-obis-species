{
 "cells": [
  {
   "cell_type": "code",
   "execution_count": null,
   "metadata": {},
   "outputs": [],
   "source": [
    "import duckdb\n",
    "import fiona\n",
    "from shapely.geometry import shape\n",
    "from shapely.geometry import Polygon\n",
    "import pandas as pd\n",
    "import geopandas as gpd\n",
    "from h3pandas.util.shapely import polyfill\n",
    "import pyarrow.dataset as ds\n",
    "import numpy as np\n",
    "import re\n",
    "import unicodedata\n",
    "\n",
    "speciesgrids_path = \"data/h3_5_obisgbif_20240723/\"\n",
    "shapefile_path = \"data/marine_world_heritage_union.shp\"\n",
    "output_path = \"output/lists.csv\""
   ]
  },
  {
   "cell_type": "code",
   "execution_count": null,
   "metadata": {},
   "outputs": [],
   "source": [
    "def simplify_name(name):\n",
    "    name = unicodedata.normalize(\"NFKD\", name).encode(\"ascii\", \"ignore\").decode(\"ascii\").lower()\n",
    "    name = re.sub(r\"[^a-z0-9]\", \"_\", name)\n",
    "    name = re.sub(r\"_+\", \"_\", name)\n",
    "    return name\n",
    "\n",
    "def coords_to_polygon(coords):\n",
    "    outer = coords[0]\n",
    "    holes = coords[1:]\n",
    "    polygon = Polygon(outer, holes)\n",
    "    return polygon"
   ]
  },
  {
   "cell_type": "code",
   "execution_count": null,
   "metadata": {},
   "outputs": [],
   "source": [
    "lists = []\n",
    "\n",
    "con = duckdb.connect()\n",
    "dataset = ds.dataset(speciesgrids_path, format=\"parquet\")\n",
    "con.register(\"dataset\", dataset)\n",
    "\n",
    "shapefile = fiona.open(shapefile_path)\n",
    "\n",
    "for record in shapefile:\n",
    "\n",
    "    site = record.properties.get(\"site\")\n",
    "    simplified = simplify_name(site)\n",
    "    print(simplified)\n",
    "    geometry = record[\"geometry\"]\n",
    "    geom_type = geometry[\"type\"]\n",
    "\n",
    "    polygons = list()\n",
    "\n",
    "    if geom_type == \"MultiPolygon\":\n",
    "        multi_polygon_coords = geometry[\"coordinates\"]\n",
    "        for polygon_coords in multi_polygon_coords:\n",
    "            polygon = coords_to_polygon(polygon_coords)\n",
    "            polygons.append(polygon)\n",
    "    elif geom_type == \"Polygon\":\n",
    "        polygon_coords = geometry[\"coordinates\"]\n",
    "        polygon = coords_to_polygon(polygon_coords)\n",
    "        polygons.append(polygon)\n",
    "\n",
    "    h3s = set()\n",
    "\n",
    "    for polygon in polygons:\n",
    "        h3 = list(polyfill(polygon, 5, geo_json=True))\n",
    "        h3s.update(h3)\n",
    "\n",
    "    con.register(\"cells\", pd.DataFrame({\"h3\": list(h3s)}))\n",
    "    df = con.execute(f\"\"\"\n",
    "        select '{simplified}' as site, species, AphiaID, max(source_gbif) as source_gbif, max(source_obis) as source_obis, sum(records) as records, min(min_year) as min_year, max(max_year) as max_year\n",
    "        from cells\n",
    "        inner join dataset on cells.h3 = dataset.cell\n",
    "        group by species, AphiaID\n",
    "    \"\"\").fetchdf()\n",
    "\n",
    "    lists.append(df)\n",
    "\n",
    "full_list = pd.concat(lists)"
   ]
  },
  {
   "cell_type": "code",
   "execution_count": 8,
   "metadata": {},
   "outputs": [
    {
     "data": {
      "text/plain": [
       "0       1849.0\n",
       "1       1900.0\n",
       "2       1929.0\n",
       "3       1954.0\n",
       "4       1973.0\n",
       "         ...  \n",
       "6086       NaN\n",
       "6087    2014.0\n",
       "6088       NaN\n",
       "6089       NaN\n",
       "6090    2014.0\n",
       "Name: min_year, Length: 158630, dtype: float64"
      ]
     },
     "execution_count": 8,
     "metadata": {},
     "output_type": "execute_result"
    }
   ],
   "source": [
    "full_list[\"min_year\"] = full_list[\"min_year\"].astype(\"Int64\")\n",
    "full_list[\"max_year\"] = full_list[\"max_year\"].astype(\"Int64\")\n",
    "full_list[\"records\"] = full_list[\"records\"].astype(\"Int64\")\n",
    "\n",
    "full_list.to_csv(output_path, index=False)"
   ]
  }
 ],
 "metadata": {
  "kernelspec": {
   "display_name": "3.12.0",
   "language": "python",
   "name": "python3"
  },
  "language_info": {
   "codemirror_mode": {
    "name": "ipython",
    "version": 3
   },
   "file_extension": ".py",
   "mimetype": "text/x-python",
   "name": "python",
   "nbconvert_exporter": "python",
   "pygments_lexer": "ipython3",
   "version": "3.12.0"
  }
 },
 "nbformat": 4,
 "nbformat_minor": 2
}
